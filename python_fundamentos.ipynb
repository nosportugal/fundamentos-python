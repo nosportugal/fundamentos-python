{
 "cells": [
  {
   "cell_type": "markdown",
   "metadata": {},
   "source": [
    "# Python - Fundamentos\n",
    "---"
   ]
  },
  {
   "cell_type": "markdown",
   "metadata": {},
   "source": [
    "## O que é Python?\n",
    "---\n",
    "   \n",
    "   \n",
    " - Linguagem de programação de alto nível\n",
    " - Foi criado pelo Holandês Guido Van Rossum em 1989 no  Instituto de Pesquisa Nacional para Matemática e Ciência da Computação (CWI)\n",
    " - Fortemente tipada\n",
    " - Interpretada e orientada à objetos\n",
    " - Linguagem de Scripts\n",
    "  \n",
    "**Curiosidade:** Apesar de se usar a cobra Píton, o nome Python foi uma homenagem a série Monty Python's Flying Circus.\n",
    "\n",
    "Python                     |  Monty Python\n",
    ":-------------------------:|:-------------------------:\n",
    "![](img/python_logo.png)   |  ![](img/mount_python.png)\n",
    "\n",
    "\n"
   ]
  },
  {
   "cell_type": "markdown",
   "metadata": {},
   "source": [
    "## Preparando o ambiente Python\n",
    "---\n",
    "<br/>  \n",
    "\n",
    "### Instalando Python  \n",
    "<br/> \n",
    "\n",
    "#### Windows\n",
    "\n",
    "  - https://www.python.org\n",
    "\n",
    "![](img/python_install.png) \n",
    "<br/> \n",
    "\n",
    "#### Linux\n",
    "\n",
    "**Via gerenciador de pacote**\n",
    "\n",
    "```sh\n",
    "apt install python3\n",
    "```\n",
    "\n",
    "```sh\n",
    "yum install -y python3\n",
    "```\n",
    "\n",
    "**Efetuando download**\n",
    "\n",
    "```sh\n",
    "curl -O https://www.python.org/ftp/python/3.9.5/Python-3.9.5.tar.xz\n",
    "tar -xvf Python-3.9.5.tar.xz\n",
    "```\n",
    "\n",
    "```sh\n",
    "cd Python-3.9.5/\n",
    "./configure --enable-optimizations\n",
    "make altinstall\n",
    "python3.9\n",
    "```"
   ]
  },
  {
   "cell_type": "markdown",
   "metadata": {},
   "source": [
    "## Terminal Python\n",
    "---\n",
    "<br/>\n",
    "\n",
    "![](img/terminal_python_windows.png)\n",
    "<br/>\n",
    "\n",
    "![](img/terminal_python_linux.png)"
   ]
  },
  {
   "cell_type": "markdown",
   "metadata": {},
   "source": [
    "## IDE's\n",
    "---\n",
    "<br/>\n",
    "\n",
    "  - Visual Studio Code\n",
    "    - https://code.visualstudio.com/\n",
    "  - Pycharm Community\n",
    "    - https://www.jetbrains.com/pycharm/download/\n",
    "  - Sublime Text\n",
    "    - https://www.sublimetext.com/\n",
    "  - ATOM\n",
    "    - https://atom.io/\n",
    "  - EMACS\n",
    "    - https://www.gnu.org/software/emacs/"
   ]
  },
  {
   "cell_type": "markdown",
   "metadata": {},
   "source": [
    "## Variáveis, Constantes e Tipos de Dados\n",
    "---\n"
   ]
  },
  {
   "cell_type": "markdown",
   "metadata": {},
   "source": [
    "Em python a convenção utilizada na nomeação de variáveis e constantes é formato snake_case.\n",
    "As variáveis são escritas em letras miniscúlas enquanto as constantes são escritas em letras maiúsculas.\n",
    "\n",
    "```python\n",
    "variavel = 42\n",
    "variavel_nome_composto = 42\n",
    "CONSTANTE = 3.14\n",
    "CONSTANTE_COMPOSTA = 3.14\n",
    "```"
   ]
  },
  {
   "cell_type": "markdown",
   "metadata": {},
   "source": [
    "Python também possui tipagem dinâmica, onde todos os valores atribuídos podem ser alterados sem problemas para qualquer outro tipo, até mesmo das constantes."
   ]
  },
  {
   "cell_type": "code",
   "execution_count": 1,
   "metadata": {},
   "outputs": [
    {
     "name": "stdout",
     "output_type": "stream",
     "text": [
      "42\n",
      "Cachorro\n",
      "3.14\n",
      "2\n"
     ]
    }
   ],
   "source": [
    "variavel = 42\n",
    "print(variavel)\n",
    "variavel = \"Cachorro\"\n",
    "print(variavel)\n",
    "CONSTANTE = 3.14\n",
    "print(CONSTANTE)\n",
    "CONSTANTE = 2\n",
    "print(CONSTANTE)"
   ]
  },
  {
   "cell_type": "markdown",
   "metadata": {},
   "source": [
    "Como falado acima, Python possui tipagem dinâmica, ou seja, as variáveis podem armazenar dados de diferentes tipos. Abaixo alguns deles."
   ]
  },
  {
   "cell_type": "code",
   "execution_count": 9,
   "metadata": {},
   "outputs": [
    {
     "name": "stdout",
     "output_type": "stream",
     "text": [
      "10 <class 'int'>\n",
      "25.1 <class 'float'>\n",
      "animal <class 'str'>\n",
      "True <class 'bool'>\n"
     ]
    }
   ],
   "source": [
    "inteiro = 10\n",
    "print(inteiro, type(inteiro))\n",
    "ponto_flutuante =  25.10\n",
    "print(ponto_flutuante, type(ponto_flutuante))\n",
    "palavra = \"animal\"\n",
    "print(palavra, type(palavra))\n",
    "Booleano = True\n",
    "print(Booleano, type(Booleano))\n"
   ]
  },
  {
   "cell_type": "markdown",
   "metadata": {},
   "source": [
    "## Operadores Aritiméticos\n",
    "---"
   ]
  },
  {
   "cell_type": "code",
   "execution_count": 17,
   "metadata": {},
   "outputs": [
    {
     "name": "stdout",
     "output_type": "stream",
     "text": [
      "soma:  15\n",
      "subtracao:  5\n",
      "multiplicacao:  50\n",
      "divisao:  2.0\n",
      "modulo:  0\n",
      "incremento:  11\n",
      "decremento:  10\n",
      "15\n"
     ]
    }
   ],
   "source": [
    "x = 10\n",
    "y = 5\n",
    "\n",
    "soma = x + y\n",
    "print(\"soma: \", soma)\n",
    "\n",
    "subtracao = x - y\n",
    "print(\"subtracao: \", subtracao)\n",
    "\n",
    "multiplicacao = x * y\n",
    "print(\"multiplicacao: \", multiplicacao)\n",
    "\n",
    "divisao = x / y\n",
    "print(\"divisao: \", divisao)\n",
    "\n",
    "modulo = x % y\n",
    "print(\"modulo: \", modulo)\n",
    "\n",
    "incremento = 10\n",
    "incremento += 1\n",
    "print(\"incremento: \", incremento)\n",
    "\n",
    "decremento = 11\n",
    "decremento -= 1\n",
    "print(\"decremento: \", decremento)\n",
    "\n",
    "numero = 10\n",
    "x = 5\n",
    "numero += x\n",
    "print(numero)"
   ]
  },
  {
   "cell_type": "markdown",
   "metadata": {},
   "source": [
    "## Conversões\n",
    "---"
   ]
  },
  {
   "cell_type": "code",
   "execution_count": 31,
   "metadata": {},
   "outputs": [
    {
     "name": "stdout",
     "output_type": "stream",
     "text": [
      "10 <class 'int'>\n",
      "10.0 <class 'float'>\n",
      "10 <class 'str'>\n",
      "10 <class 'int'>\n",
      "10 <class 'str'>\n",
      "True False True False\n"
     ]
    }
   ],
   "source": [
    "inteiro = 10\n",
    "print(inteiro, type(inteiro))\n",
    "numero_flutuante = float(inteiro)\n",
    "print(numero_flutuante, type(numero_flutuante))\n",
    "\n",
    "palavra = \"10\"\n",
    "print(palavra, type(palavra))\n",
    "numero = int(palavra)\n",
    "print(numero, type(numero))\n",
    "\n",
    "inteiro_string = str(inteiro)\n",
    "print(inteiro_string, type(inteiro_string))\n",
    "\n",
    "print(bool(10), bool(0), bool(\"cachorro\"), bool(\"\"))\n"
   ]
  },
  {
   "cell_type": "markdown",
   "metadata": {},
   "source": [
    "## Strings"
   ]
  },
  {
   "cell_type": "code",
   "execution_count": 45,
   "metadata": {},
   "outputs": [
    {
     "name": "stdout",
     "output_type": "stream",
     "text": [
      "José Lisboa\n",
      "José Lisboa\n",
      "José Lisboa\n",
      "Lisboa José\n",
      "José Lisboa\n",
      "A soma de  10 + 5 é 15\n"
     ]
    }
   ],
   "source": [
    "nome = \"José\"\n",
    "sobronome = \"Lisboa\"\n",
    "nome_completo = nome + \" \" + sobronome\n",
    "print(nome_completo)\n",
    "\n",
    "nome = \"José\"\n",
    "sobronome = \"Lisboa\"\n",
    "nome_completo = \"{} {}\".format(nome, sobronome)\n",
    "print(nome_completo)\n",
    "\n",
    "nome = \"José\"\n",
    "sobronome = \"Lisboa\"\n",
    "nome_completo = \"{nome} {sobronome}\".format(nome=nome, sobronome=sobronome)\n",
    "print(nome_completo)\n",
    "\n",
    "nome = \"José\"\n",
    "sobronome = \"Lisboa\"\n",
    "nome_completo = \"{1} {0}\".format(nome, sobronome)\n",
    "print(nome_completo)\n",
    "\n",
    "# f-string\n",
    "nome = \"José\"\n",
    "sobronome = \"Lisboa\"\n",
    "nome_completo = f\"{nome} {sobronome}\"\n",
    "print(nome_completo)\n",
    "\n",
    "x = 10\n",
    "y = 5\n",
    "resultado = f\"A soma de  {x} + {y} é {x, y}\"\n",
    "print(resultado)"
   ]
  },
  {
   "cell_type": "markdown",
   "metadata": {},
   "source": [
    "## Condicionais\n",
    "---\n"
   ]
  },
  {
   "cell_type": "code",
   "execution_count": 5,
   "metadata": {},
   "outputs": [
    {
     "name": "stdout",
     "output_type": "stream",
     "text": [
      "número par\n"
     ]
    }
   ],
   "source": [
    "x = 10\n",
    "y = 5\n",
    "soma = 10 + 6\n",
    "if soma % 2 == 0:\n",
    "    print(\"número par\")\n",
    "else:\n",
    "    print(\"número ímpar\")"
   ]
  },
  {
   "cell_type": "code",
   "execution_count": 49,
   "metadata": {},
   "outputs": [
    {
     "name": "stdout",
     "output_type": "stream",
     "text": [
      "número par\n"
     ]
    }
   ],
   "source": [
    "x = 10\n",
    "y = 5\n",
    "soma = 10 + 6\n",
    "if soma != 0:\n",
    "    if soma % 2 == 0:\n",
    "        print(\"número par\")\n",
    "    else:\n",
    "        print(\"número ímpar\")\n",
    "else:\n",
    "    print(\"Zero\")"
   ]
  },
  {
   "cell_type": "code",
   "execution_count": 54,
   "metadata": {},
   "outputs": [
    {
     "name": "stdout",
     "output_type": "stream",
     "text": [
      "Criança\n",
      "Falante Português\n"
     ]
    }
   ],
   "source": [
    "## entre 0 e 14 = criança\n",
    "## entre 15 e 18 = adolescente\n",
    "## entre 19 e 29 = jovem\n",
    "## se nacionalidade Portuguesa ou Brasileira escrever \"Falante Português\"\n",
    "idade = 5\n",
    "nacionalidade = \"Portuguesa\"\n",
    "\n",
    "if idade >= 0 and idade <=14:\n",
    "    print(\"Criança\")\n",
    "elif idade > 14 and idade <= 18:\n",
    "    print(\"Adolescente\")\n",
    "elif idade >= 19 and idade <= 29:\n",
    "    print(\"jovem\")\n",
    "else:\n",
    "    print(\"Não foi possível classificar\")\n",
    "    \n",
    "if nacionalidade == \"Portuguesa\" or nacionalidade == \"Brasileira\":\n",
    "    print(\"Falante Português\")\n"
   ]
  },
  {
   "cell_type": "code",
   "execution_count": 4,
   "metadata": {},
   "outputs": [
    {
     "name": "stdout",
     "output_type": "stream",
     "text": [
      "Afirmação verdadeira\n"
     ]
    }
   ],
   "source": [
    "boolean = False\n",
    "\n",
    "if not boolean:\n",
    "    print(\"Afirmação verdadeira\")\n",
    "else:\n",
    "    print(\"Afirmação falsa\")"
   ]
  },
  {
   "cell_type": "code",
   "execution_count": 54,
   "metadata": {},
   "outputs": [
    {
     "name": "stdout",
     "output_type": "stream",
     "text": [
      "32\n"
     ]
    }
   ],
   "source": [
    "nome = \"Rafael\"\n",
    "nome = 32 if nome == \"Rafael\" else 20 \n",
    "print(nome)"
   ]
  },
  {
   "cell_type": "code",
   "execution_count": 5,
   "metadata": {},
   "outputs": [
    {
     "name": "stdout",
     "output_type": "stream",
     "text": [
      "Rafael\n"
     ]
    }
   ],
   "source": [
    "nome1 = \"\"\n",
    "nome2 = \"Rafael\"\n",
    "nome = (nome1 or nome2)\n",
    "print(nome)"
   ]
  },
  {
   "cell_type": "markdown",
   "metadata": {},
   "source": [
    "## Módulos, funções, métodos e classes\n",
    "---"
   ]
  },
  {
   "cell_type": "markdown",
   "metadata": {},
   "source": [
    "### Definições\n",
    "<br/>\n",
    "\n",
    "**Funções**  \n",
    "\n",
    "Função é um bloco de código que encapsula uma tarefa específica, que podem receber argumentos e retornar valores. Em python uma função é indicado pela palavra reservada \"def\" que iniciar a *definição* de uma função.\n",
    "\n",
    "**Métodos**\n",
    "\n",
    "Um método é uma função que é definada em uma classe, podemos dizer que um método sempre “pertence” a uma classe. Método também é indicado pela palavra reservada \"def\".\n",
    "\n",
    "**Classes**\n",
    "\n",
    "Classes proporcionam uma forma de organizar dados e funcionalidades juntos. Criar uma nova classe cria um novo “tipo” de objeto, permitindo que novas “instâncias” desse tipo sejam produzidas. Cada instância da classe pode ter atributos anexados a ela, para manter seu estado. Instâncias da classe também podem ter métodos (definidos pela classe) para modificar seu estado.\n",
    "\n",
    "**Módulos**\n",
    "\n",
    "Um módulo é um ficheiro contendo definições e instruções Python. O nome do arquivo é o nome do módulo acrescido do sufixo \".py\", ou seja, todo fichero Python (extensão .py) é um módulo no mundo Python.\n",
    "\n",
    "**Referência:** https://docs.python.org/pt-br/3/tutorial/\n"
   ]
  },
  {
   "cell_type": "code",
   "execution_count": 57,
   "metadata": {},
   "outputs": [
    {
     "name": "stdout",
     "output_type": "stream",
     "text": [
      "21\n"
     ]
    }
   ],
   "source": [
    "def soma(x, y):\n",
    "    return x + y\n",
    "\n",
    "resultado = soma(10, 11)\n",
    "print(resultado)"
   ]
  },
  {
   "cell_type": "code",
   "execution_count": 59,
   "metadata": {},
   "outputs": [
    {
     "name": "stdout",
     "output_type": "stream",
     "text": [
      "15 5\n"
     ]
    }
   ],
   "source": [
    "class Calculadora:\n",
    "    def __init__(self, x, y): #construtor\n",
    "        self.x = x\n",
    "        self.y = y\n",
    "    \n",
    "    def soma(self):\n",
    "        return self.x + self.y\n",
    "    \n",
    "    def subtracao(self):\n",
    "        return self.x - self.y\n",
    "    \n",
    "calculadora = Calculadora(10, 5)\n",
    "resultado_soma = calculadora.soma()\n",
    "resultado_subtracao = calculadora.subtracao()\n",
    "print(resultado_soma, resultado_subtracao)"
   ]
  },
  {
   "cell_type": "code",
   "execution_count": 60,
   "metadata": {},
   "outputs": [
    {
     "name": "stdout",
     "output_type": "stream",
     "text": [
      "15 15\n"
     ]
    }
   ],
   "source": [
    "class Calculadora:    \n",
    "    def soma(self, x, y):\n",
    "        return x + y\n",
    "    \n",
    "    def subtracao(self, x, y):\n",
    "        return x + y\n",
    "    \n",
    "calculadora = Calculadora()\n",
    "resultado_soma = calculadora.soma(10, 5)\n",
    "resultado_subtracao = calculadora.subtracao(10, 5)\n",
    "print(resultado_soma, resultado_subtracao)"
   ]
  },
  {
   "cell_type": "code",
   "execution_count": null,
   "metadata": {},
   "outputs": [],
   "source": []
  },
  {
   "cell_type": "code",
   "execution_count": 2,
   "metadata": {},
   "outputs": [
    {
     "name": "stdout",
     "output_type": "stream",
     "text": [
      "7.5\n"
     ]
    }
   ],
   "source": [
    "# funções anônimas\n",
    "\n",
    "media = lambda valores: sum(valores) / len(valores)\n",
    "resultado = media([10, 10, 5, 5])\n",
    "print(resultado)"
   ]
  },
  {
   "cell_type": "code",
   "execution_count": 1,
   "metadata": {},
   "outputs": [
    {
     "name": "stdout",
     "output_type": "stream",
     "text": [
      "15\n",
      "5\n",
      "2.0\n",
      "50\n"
     ]
    },
    {
     "data": {
      "text/plain": [
       "dict"
      ]
     },
     "execution_count": 1,
     "metadata": {},
     "output_type": "execute_result"
    }
   ],
   "source": [
    "soma = lambda x, y: x + y\n",
    "subtracao = lambda x, y: x - y\n",
    "multiplicacao = lambda x, y: x * y\n",
    "divisao = lambda x, y: x / y\n",
    "\n",
    "calculadora = {\n",
    "    \"soma\": soma,\n",
    "    \"subtracao\": subtracao,\n",
    "    \"multiplicacao\": multiplicacao,\n",
    "    \"divisao\": divisao    \n",
    "}\n",
    "\n",
    "\n",
    "operacao = \"soma\"\n",
    "\n",
    "resultado = calculadora[operacao](10, 5)\n",
    "print(resultado)\n",
    "\n",
    "print(calculadora[\"subtracao\"](10, 5))\n",
    "print(calculadora[\"divisao\"](10, 5))\n",
    "print(calculadora[\"multiplicacao\"](10, 5))\n",
    "type(calculadora)"
   ]
  },
  {
   "cell_type": "markdown",
   "metadata": {},
   "source": [
    "## Estruturas de repetição\n",
    "---"
   ]
  },
  {
   "cell_type": "code",
   "execution_count": 21,
   "metadata": {},
   "outputs": [
    {
     "name": "stdout",
     "output_type": "stream",
     "text": [
      "1\n",
      "2\n",
      "3\n",
      "4\n",
      "5\n",
      "6\n",
      "7\n",
      "8\n",
      "9\n"
     ]
    }
   ],
   "source": [
    "for numero in range(1, 10):\n",
    "    print(numero)\n",
    "\n",
    "#lista_nomes = [\"Rafael\", \"José\", \"Maria\", \"Beatriz\"]    \n",
    "#for nomes in lista_nomes:\n",
    "#    print(nomes)\n",
    "\n",
    "#for letra in \"Rafael\":\n",
    "#    print(letra)"
   ]
  },
  {
   "cell_type": "code",
   "execution_count": 17,
   "metadata": {},
   "outputs": [
    {
     "name": "stdout",
     "output_type": "stream",
     "text": [
      "4\n",
      "3\n",
      "2\n",
      "-----\n",
      "24\n"
     ]
    }
   ],
   "source": [
    "numero = 4\n",
    "\n",
    "fatorial = 1\n",
    "while numero > 1:\n",
    "    print(numero)\n",
    "    fatorial *= numero\n",
    "    numero -= 1\n",
    "print(\"-----\")\n",
    "print(fatorial)\n",
    "\n",
    "#numero = 10\n",
    "#while True:\n",
    "#    print(numero)\n",
    "#    numero -= 1\n",
    "#    if numero == 0:\n",
    "#        break\n",
    "\n",
    "    \n"
   ]
  },
  {
   "cell_type": "markdown",
   "metadata": {},
   "source": [
    "## Objetos iteráveis - Listas, Tuples, Dicionários e Set\n",
    "---"
   ]
  },
  {
   "cell_type": "code",
   "execution_count": 31,
   "metadata": {},
   "outputs": [
    {
     "name": "stdout",
     "output_type": "stream",
     "text": [
      "<class 'list'>\n",
      "[2, 4, 6, 8]\n"
     ]
    }
   ],
   "source": [
    "# listas\n",
    "lista_numero = [1, 2, 3, 4]\n",
    "print(type(lista_numero))\n",
    "nova_lista_numero = []\n",
    "for numero in lista_numero:\n",
    "    nova_lista_numero.append(numero * 2)\n",
    "print(nova_lista_numero)  \n"
   ]
  },
  {
   "cell_type": "code",
   "execution_count": 32,
   "metadata": {},
   "outputs": [
    {
     "name": "stdout",
     "output_type": "stream",
     "text": [
      "[1, 2, 3, 4]\n",
      "[10, 2, 3, 4]\n",
      "2\n",
      "4\n"
     ]
    }
   ],
   "source": [
    "print(lista_numero)\n",
    "lista_numero[0] = 10\n",
    "print(lista_numero)\n",
    "print(lista_numero[1])\n",
    "print(lista_numero[-1])\n",
    "print(len(lista_numero))"
   ]
  },
  {
   "cell_type": "code",
   "execution_count": 36,
   "metadata": {},
   "outputs": [
    {
     "name": "stdout",
     "output_type": "stream",
     "text": [
      "10\n",
      "20\n",
      "Rafael\n",
      "True\n",
      "False\n",
      "[1, 2, 3]\n"
     ]
    }
   ],
   "source": [
    "lista_aleatoria = [10, 20, \"Rafael\", True, False, [1, 2, 3]]\n",
    "for elementos in lista_aleatoria:\n",
    "    print(elementos)\n"
   ]
  },
  {
   "cell_type": "code",
   "execution_count": 45,
   "metadata": {},
   "outputs": [
    {
     "name": "stdout",
     "output_type": "stream",
     "text": [
      "[2, 4, 5, 10]\n"
     ]
    }
   ],
   "source": [
    "lista_numero = [10, 2, 4, 5]\n",
    "lista_numero.sort()\n",
    "#lista_numero.sort(reverse=True)\n",
    "#lista_numero.reverse()\n",
    "print(lista_numero)"
   ]
  },
  {
   "cell_type": "code",
   "execution_count": 55,
   "metadata": {},
   "outputs": [
    {
     "name": "stdout",
     "output_type": "stream",
     "text": [
      "[55, 10, 2, 4, 5, 55]\n",
      "[10, 2, 4, 5, 55]\n",
      "[]\n"
     ]
    }
   ],
   "source": [
    "lista_numero = [10, 2, 4, 5]\n",
    "lista_numero.append(55)\n",
    "lista_numero.insert(0, 55)\n",
    "print(lista_numero)\n",
    "lista_numero.pop(0)\n",
    "print(lista_numero)\n",
    "lista_numero.clear()\n",
    "print(lista_numero)"
   ]
  },
  {
   "cell_type": "code",
   "execution_count": 59,
   "metadata": {},
   "outputs": [
    {
     "name": "stdout",
     "output_type": "stream",
     "text": [
      "[0, 1, 2, 3, 4, 5, 6, 7, 8, 9]\n"
     ]
    }
   ],
   "source": [
    "lista_numero = [numero for numero in range(10)]\n",
    "print(lista_numero)"
   ]
  },
  {
   "cell_type": "code",
   "execution_count": 73,
   "metadata": {},
   "outputs": [
    {
     "name": "stdout",
     "output_type": "stream",
     "text": [
      "(10, 20, 30)\n",
      "(10, 20, 30)\n",
      "(10, 20)\n",
      "(10, 20)\n",
      "[20, 40, 60]\n"
     ]
    }
   ],
   "source": [
    "# tuplas - Tupla é uma Lista imutável\n",
    "\n",
    "tuplas_numeros = (10, 20, 30)\n",
    "print(tuplas_numeros)\n",
    "#tuplas_numeros[0] = 11\n",
    "#tuplas_numero.append(1)\n",
    "print(tuplas_numeros)\n",
    "print(tuplas_numeros[0:2])\n",
    "nova_tupla = tuplas_numeros[0:2]\n",
    "print(nova_tupla)\n",
    "lista_numero = [numero * 2 for numero in tuplas_numeros]\n",
    "print(lista_numero)\n"
   ]
  },
  {
   "cell_type": "code",
   "execution_count": 7,
   "metadata": {},
   "outputs": [
    {
     "name": "stdout",
     "output_type": "stream",
     "text": [
      "{'nome': 'José', 'sobrenome': 'Lisboa', 'idade': 30}\n",
      "José\n",
      "30\n"
     ]
    }
   ],
   "source": [
    "# dicionários\n",
    "\n",
    "pessoa = {\n",
    "    \"nome\": \"José\",\n",
    "    \"sobrenome\": \"Lisboa\",\n",
    "    \"idade\": 30\n",
    "}\n",
    "\n",
    "print(pessoa)\n",
    "print(pessoa[\"nome\"])\n",
    "print(pessoa.get(\"idade\"))"
   ]
  },
  {
   "cell_type": "code",
   "execution_count": null,
   "metadata": {},
   "outputs": [],
   "source": []
  },
  {
   "cell_type": "code",
   "execution_count": 32,
   "metadata": {},
   "outputs": [
    {
     "name": "stdout",
     "output_type": "stream",
     "text": [
      "<class 'set'>\n",
      "{1, 2, 3, 4}\n",
      "{4, 5, 6, 7}\n",
      "{1, 2, 3, 4, 5, 6, 7}\n",
      "{4}\n",
      "{5, 6, 7}\n",
      "{1, 2, 3, 5, 6, 7}\n"
     ]
    }
   ],
   "source": [
    "# conjuntos\n",
    "\n",
    "numeros = {1, 2, 3, 3, 4}\n",
    "print(type(numeros))\n",
    "print(numeros)\n",
    "\n",
    "lista = [4, 4, 5, 6, 6, 7]\n",
    "conjunto = set(lista)\n",
    "print(conjunto)\n",
    "\n",
    "\n",
    "print(conjunto.union(numeros))\n",
    "print(conjunto.intersection(numeros))\n",
    "print(conjunto.difference(numeros))\n",
    "print(conjunto.symmetric_difference(numeros))\n",
    "\n"
   ]
  },
  {
   "cell_type": "code",
   "execution_count": 2,
   "metadata": {},
   "outputs": [
    {
     "name": "stdout",
     "output_type": "stream",
     "text": [
      "0 10\n",
      "1 20\n",
      "2 30\n",
      "[20, 40, 60]\n"
     ]
    }
   ],
   "source": [
    "lista = [10, 20, 30]\n",
    "for indice, value in enumerate(lista):\n",
    "    print(indice, value)\n",
    "    lista[indice] *= 2\n",
    "    \n",
    "print(lista)"
   ]
  },
  {
   "cell_type": "code",
   "execution_count": 8,
   "metadata": {},
   "outputs": [
    {
     "data": {
      "text/plain": [
       "[10, 20, 30]"
      ]
     },
     "execution_count": 8,
     "metadata": {},
     "output_type": "execute_result"
    }
   ],
   "source": [
    "lista1 = [10, 20, 30]\n",
    "lista2 = lista[1]\n",
    "lista2 =+ 10\n",
    "lista1"
   ]
  },
  {
   "cell_type": "markdown",
   "metadata": {},
   "source": [
    "# Importações de módulos\n",
    "---"
   ]
  },
  {
   "cell_type": "markdown",
   "metadata": {},
   "source": [
    "É possível em python importar outros módulos (ficheiros python) e classes/funções que estejam dentro desse módulo, para tal basta fazer:\n",
    "\n",
    "```python\n",
    "import calculadora\n",
    "```\n",
    "\n",
    "No trecho acima, estamos importando um módulo que se chama cálculadora. Agora suponha que esse módulo possua uma função que se chama soma(), nós agora podemos acessar essa função.\n",
    "\n",
    "```python\n",
    "calculadora.soma(10, 30)\n",
    "```\n",
    "\n",
    "Também é possível acessar diretamente a função soma do módulo calculadora, para isto o import deve ser:\n",
    "\n",
    "```python\n",
    "from calculadora import soma\n",
    "\n",
    "soma(10, 30)\n",
    "```\n"
   ]
  },
  {
   "cell_type": "markdown",
   "metadata": {},
   "source": [
    "Outro ponto de atenção é que muitas vezes fazemos testes nestes módulos, então vamos supor que o módulo calculadora tenha a seguinte estrutura:\n",
    "\n",
    "```python\n",
    "def soma(x, y):\n",
    "    return x + y\n",
    "\n",
    "print(soma(10, 20))\n",
    "```\n",
    "\n",
    "Ao realizar o import do módulo calculadora, você irá executar o trecho `print(soma(10, 20))`, pois ao importar o módulo é feito o carregamento de toda a estrutura deste módulo, para evitar que esse código seja executa, sempre que precisasr testar algum código que deva ser executado apenas se a chamada for feita diretamente ao módulo (exemplo: `python calculadora.py`) deve-se usar a estrutura abaixo:\n",
    "\n",
    "```python\n",
    "def soma(x, y):\n",
    "    return x + y\n",
    "\n",
    "if __name__ == \"__main__\":\n",
    "    print(soma(10, 20))\n",
    "```\n",
    "\n",
    "onde `__name__` é um chave interna do python que é responsável por armazena o nome do módulo, onde, caso o módulo seja chamado por importação o valor de `__name__` será o nome do módulo, caso contrário, se o módulo for chamado diretamente (python modulo.py) o valor de `__name__` será `\"__main__\"`."
   ]
  },
  {
   "cell_type": "markdown",
   "metadata": {},
   "source": [
    "## Instalação de dependências\n",
    "---"
   ]
  },
  {
   "cell_type": "markdown",
   "metadata": {},
   "source": [
    "### PIP\n",
    "\n",
    "PIP é o instalador de pacote do Python. \n",
    "Como o comando `pip` é pissível fazer instalação e upgrade de pacotes.\n",
    "\n",
    "O repositório para procurar e publicar pacote Python é o: https://pypi.org/\n",
    "\n",
    "#### Comandos PIP\n",
    "\n",
    "```\n",
    "pip install <nome_pacote>\n",
    "```\n",
    "\n",
    "Instalação de pacote.\n",
    "\n",
    "```\n",
    "pip install <nome_pacote> --upgrade\n",
    "```\n",
    "\n",
    "Atualização de pacote.\n",
    "\n",
    "```\n",
    "pip uninstall -y <nome_pacote>\n",
    "```\n",
    "\n",
    "Desinstalar um pacote.\n",
    "\n",
    "```\n",
    "pip list\n",
    "pip freeze\n",
    "```\n",
    "\n",
    "Lista os pacotes instalados.\n",
    "\n"
   ]
  },
  {
   "cell_type": "markdown",
   "metadata": {},
   "source": [
    "## Ambiente Virtual\n",
    "---"
   ]
  },
  {
   "cell_type": "markdown",
   "metadata": {},
   "source": [
    "Para separar melhor suas dependência, no Python é possível criar ambiente virtuais, onde é possível separar as bibliotecas e suas respectivas versões por projeto.\n",
    "Com o ambiente virtual é possível ter vários projetos utilizandos as mesma bibliotecas com versões diferente em um mesmo computador.\n",
    "No python, temos o virtualenv que permite a criação de ambientes virtuais, geralmente criamos os ambientes virtuais dentro da estrutura de cada projeto com o nome `.venv`.\n",
    "O passo-a-passo para criação e ativação de uma virtualenv é:\n",
    "\n",
    "```\n",
    "python -m venv .venv\n",
    "```\n",
    "\n",
    "O comando acima criar uma nova virtual env no diretorio `.venv`. É possível criar uma ambiente virtual em qualquer diretório com qualquer nome, mas é indicado criar sempre com o nome `.venv` na raiz do projeto que irá utilizar essa virtualenv.\n",
    "\n",
    "**Linux**\n",
    "```\n",
    "source .venv/bin/activate\n",
    "```\n",
    "\n",
    "**Windows** \n",
    "```\n",
    ".venv\\Scripts\\activate.ps1\n",
    ".venv\\Scripts\\activate.bat\n",
    "```\n",
    "\n",
    "O comando acima ativa a virtualenv, ao rodar um comando como `pip freeze` você notará que nenhuma dependência estará instalada.\n",
    "\n",
    "```\n",
    "deactivate\n",
    "```\n",
    "\n",
    "O comando acima desativa a virtualenv."
   ]
  },
  {
   "cell_type": "markdown",
   "metadata": {},
   "source": [
    "## Integração com API's HTTP\n",
    "---"
   ]
  },
  {
   "cell_type": "markdown",
   "metadata": {},
   "source": [
    "Integrações com API's HTTP são cada vez mais comuns, esse tipo de API vem se tornando uma padrão no mercado para desenvolvimento de integrações entre aplicações.\n",
    "As API's HTTP tem como retorno mais comum um XML ou um JSON, aqui iremos trabalhar com API's que retornam JSON.  \n",
    "</br>  \n",
    "</br>  \n",
    "  \n",
    "Python possui biblioteca nativa para realizar requisições http, esse biblioteca é a [urllib.request](https://docs.python.org/3.8/library/urllib.request.html#module-urllib.request)\n",
    "\n",
    "Porém aqui usaremos a biblioteca [requests] (https://docs.python-requests.org/en/master/). Essa biblioteca é a mais popular no mundo Python e também é a biblioteca recomendada na própria página do Python para desenvolvimento de chamadas HTTP.\n",
    "\n"
   ]
  },
  {
   "cell_type": "markdown",
   "metadata": {},
   "source": [
    "### Requests\n",
    "\n",
    "Requests é uma biblioteca Python que possui uma interface simples para realiazar requisições HTTP. Com essa biblioteca é possível desenvolver integrações com outraas aplicações que possuem API's HTTP e também fazer raspagem de dados em página da web.  \n",
    "\n",
    "> Requests is an elegant and simple HTTP library for Python, built for human beings.  "
   ]
  },
  {
   "cell_type": "code",
   "execution_count": 1,
   "metadata": {},
   "outputs": [
    {
     "ename": "NameError",
     "evalue": "name 'prnt' is not defined",
     "output_type": "error",
     "traceback": [
      "\u001b[0;31m---------------------------------------------------------------------------\u001b[0m",
      "\u001b[0;31mNameError\u001b[0m                                 Traceback (most recent call last)",
      "\u001b[0;32m<ipython-input-1-f5abefb9e064>\u001b[0m in \u001b[0;36m<module>\u001b[0;34m\u001b[0m\n\u001b[1;32m      1\u001b[0m \u001b[0;32mimport\u001b[0m \u001b[0mrequests\u001b[0m\u001b[0;34m\u001b[0m\u001b[0;34m\u001b[0m\u001b[0m\n\u001b[1;32m      2\u001b[0m \u001b[0mresponse\u001b[0m \u001b[0;34m=\u001b[0m \u001b[0mrequests\u001b[0m\u001b[0;34m.\u001b[0m\u001b[0mget\u001b[0m\u001b[0;34m(\u001b[0m\u001b[0;34m\"https://github.com/\"\u001b[0m\u001b[0;34m)\u001b[0m\u001b[0;34m\u001b[0m\u001b[0;34m\u001b[0m\u001b[0m\n\u001b[0;32m----> 3\u001b[0;31m \u001b[0mprnt\u001b[0m\u001b[0;34m(\u001b[0m\u001b[0;34m\"\"\u001b[0m\u001b[0;34m)\u001b[0m\u001b[0;34m\u001b[0m\u001b[0;34m\u001b[0m\u001b[0m\n\u001b[0m\u001b[1;32m      4\u001b[0m \u001b[0;31m#print(response.status_code)\u001b[0m\u001b[0;34m\u001b[0m\u001b[0;34m\u001b[0m\u001b[0;34m\u001b[0m\u001b[0m\n\u001b[1;32m      5\u001b[0m \u001b[0;31m#print(response.text)\u001b[0m\u001b[0;34m\u001b[0m\u001b[0;34m\u001b[0m\u001b[0;34m\u001b[0m\u001b[0m\n",
      "\u001b[0;31mNameError\u001b[0m: name 'prnt' is not defined"
     ]
    }
   ],
   "source": [
    "import requests\n",
    "response = requests.get(\"https://github.com/\")\n",
    "#print(response.status_code)\n",
    "#print(response.text)\n"
   ]
  },
  {
   "cell_type": "code",
   "execution_count": 5,
   "metadata": {},
   "outputs": [
    {
     "ename": "HTTPError",
     "evalue": "404 Client Error: Not Found for url: https://api.jsonbin.io/v3/b/60bf8ff54d024768b8f34ef0/10",
     "output_type": "error",
     "traceback": [
      "\u001b[0;31m---------------------------------------------------------------------------\u001b[0m",
      "\u001b[0;31mHTTPError\u001b[0m                                 Traceback (most recent call last)",
      "\u001b[0;32m<ipython-input-5-75063fbd88e4>\u001b[0m in \u001b[0;36m<module>\u001b[0;34m\u001b[0m\n\u001b[1;32m      1\u001b[0m \u001b[0;32mimport\u001b[0m \u001b[0mrequests\u001b[0m\u001b[0;34m\u001b[0m\u001b[0;34m\u001b[0m\u001b[0m\n\u001b[1;32m      2\u001b[0m \u001b[0mresponse\u001b[0m \u001b[0;34m=\u001b[0m \u001b[0mrequests\u001b[0m\u001b[0;34m.\u001b[0m\u001b[0mget\u001b[0m\u001b[0;34m(\u001b[0m\u001b[0;34m\"https://api.jsonbin.io/v3/b/60bf8ff54d024768b8f34ef0/10\"\u001b[0m\u001b[0;34m)\u001b[0m\u001b[0;34m\u001b[0m\u001b[0;34m\u001b[0m\u001b[0m\n\u001b[0;32m----> 3\u001b[0;31m \u001b[0mresponse\u001b[0m\u001b[0;34m.\u001b[0m\u001b[0mraise_for_status\u001b[0m\u001b[0;34m(\u001b[0m\u001b[0;34m)\u001b[0m\u001b[0;34m\u001b[0m\u001b[0;34m\u001b[0m\u001b[0m\n\u001b[0m",
      "\u001b[0;32m~/.local/lib/python3.8/site-packages/requests/models.py\u001b[0m in \u001b[0;36mraise_for_status\u001b[0;34m(self)\u001b[0m\n\u001b[1;32m    941\u001b[0m \u001b[0;34m\u001b[0m\u001b[0m\n\u001b[1;32m    942\u001b[0m         \u001b[0;32mif\u001b[0m \u001b[0mhttp_error_msg\u001b[0m\u001b[0;34m:\u001b[0m\u001b[0;34m\u001b[0m\u001b[0;34m\u001b[0m\u001b[0m\n\u001b[0;32m--> 943\u001b[0;31m             \u001b[0;32mraise\u001b[0m \u001b[0mHTTPError\u001b[0m\u001b[0;34m(\u001b[0m\u001b[0mhttp_error_msg\u001b[0m\u001b[0;34m,\u001b[0m \u001b[0mresponse\u001b[0m\u001b[0;34m=\u001b[0m\u001b[0mself\u001b[0m\u001b[0;34m)\u001b[0m\u001b[0;34m\u001b[0m\u001b[0;34m\u001b[0m\u001b[0m\n\u001b[0m\u001b[1;32m    944\u001b[0m \u001b[0;34m\u001b[0m\u001b[0m\n\u001b[1;32m    945\u001b[0m     \u001b[0;32mdef\u001b[0m \u001b[0mclose\u001b[0m\u001b[0;34m(\u001b[0m\u001b[0mself\u001b[0m\u001b[0;34m)\u001b[0m\u001b[0;34m:\u001b[0m\u001b[0;34m\u001b[0m\u001b[0;34m\u001b[0m\u001b[0m\n",
      "\u001b[0;31mHTTPError\u001b[0m: 404 Client Error: Not Found for url: https://api.jsonbin.io/v3/b/60bf8ff54d024768b8f34ef0/10"
     ]
    }
   ],
   "source": [
    "import requests\n",
    "response = requests.get(\"https://api.jsonbin.io/v3/b/60bf8ff54d024768b8f34ef0/10\")\n",
    "response.raise_for_status()"
   ]
  },
  {
   "cell_type": "code",
   "execution_count": 11,
   "metadata": {},
   "outputs": [
    {
     "data": {
      "text/plain": [
       "'https://api.jsonbin.io/v3/b/60bf8ff54d024768b8f34ef0/aew'"
      ]
     },
     "execution_count": 11,
     "metadata": {},
     "output_type": "execute_result"
    }
   ],
   "source": [
    "url = \"https://api.jsonbin.io/v3/b/60bf8ff54d024768b8f34ef0/\"\n",
    "from urllib.parse import urljoin\n",
    "urljoin(url, \"aew\")"
   ]
  },
  {
   "cell_type": "markdown",
   "metadata": {},
   "source": [
    "## Tratamento de exceçoes\n",
    "---"
   ]
  },
  {
   "cell_type": "markdown",
   "metadata": {},
   "source": [
    "Tratamento de exceções é muito importante no desenvolvimento e em Python não é diferente, inclusive em Python é incentivado o uso de tratamento de exceções para definir fluxos de negócios.\n",
    "\n",
    "Hierarquia de exceções no Python: https://docs.python.org/pt-br/3/library/exceptions.html"
   ]
  },
  {
   "cell_type": "code",
   "execution_count": 6,
   "metadata": {},
   "outputs": [
    {
     "name": "stdout",
     "output_type": "stream",
     "text": [
      "erro\n"
     ]
    }
   ],
   "source": [
    "try:\n",
    "    resultado = 1 + \"1\"\n",
    "except:\n",
    "    print(\"erro\")"
   ]
  },
  {
   "cell_type": "code",
   "execution_count": 9,
   "metadata": {},
   "outputs": [
    {
     "name": "stdout",
     "output_type": "stream",
     "text": [
      "erro:  unsupported operand type(s) for +: 'int' and 'str'\n"
     ]
    }
   ],
   "source": [
    "try:\n",
    "    resultado = 1 + \"1\"\n",
    "except Exception as ex:\n",
    "    print(\"erro: \", ex)"
   ]
  },
  {
   "cell_type": "code",
   "execution_count": 58,
   "metadata": {},
   "outputs": [
    {
     "name": "stdout",
     "output_type": "stream",
     "text": [
      "não é possível somar uma string e um numero inteiro\n"
     ]
    }
   ],
   "source": [
    "try:\n",
    "    resultado = 1 + \"1\"\n",
    "except TypeError:\n",
    "    print(\"não é possível somar uma string e um numero inteiro\")\n",
    "    #raise TypeError(\"Não foi possível realiazar soma entre inteiros e string\")"
   ]
  },
  {
   "cell_type": "code",
   "execution_count": 15,
   "metadata": {},
   "outputs": [
    {
     "name": "stdout",
     "output_type": "stream",
     "text": [
      "6\n"
     ]
    }
   ],
   "source": [
    "try:\n",
    "    x = 1\n",
    "    y = \"5\"\n",
    "    resultado = x + y\n",
    "except TypeError:\n",
    "    resultado = int(x)  + int(y)\n",
    "print(resultado)"
   ]
  },
  {
   "cell_type": "code",
   "execution_count": 35,
   "metadata": {},
   "outputs": [
    {
     "name": "stderr",
     "output_type": "stream",
     "text": [
      "ERROR:root:Erro ao acessar um indice inválido da lista\n"
     ]
    },
    {
     "name": "stdout",
     "output_type": "stream",
     "text": [
      "Sempre executa\n"
     ]
    },
    {
     "ename": "IndexError",
     "evalue": "list index out of range",
     "output_type": "error",
     "traceback": [
      "\u001b[0;31m---------------------------------------------------------------------------\u001b[0m",
      "\u001b[0;31mIndexError\u001b[0m                                Traceback (most recent call last)",
      "\u001b[0;32m<ipython-input-35-3079ab81e7e1>\u001b[0m in \u001b[0;36m<module>\u001b[0;34m\u001b[0m\n\u001b[1;32m      2\u001b[0m \u001b[0;32mtry\u001b[0m\u001b[0;34m:\u001b[0m\u001b[0;34m\u001b[0m\u001b[0;34m\u001b[0m\u001b[0m\n\u001b[1;32m      3\u001b[0m     \u001b[0mlista\u001b[0m \u001b[0;34m=\u001b[0m \u001b[0;34m[\u001b[0m\u001b[0;36m1\u001b[0m\u001b[0;34m,\u001b[0m \u001b[0;36m2\u001b[0m\u001b[0;34m]\u001b[0m\u001b[0;34m\u001b[0m\u001b[0;34m\u001b[0m\u001b[0m\n\u001b[0;32m----> 4\u001b[0;31m     \u001b[0mnumero\u001b[0m \u001b[0;34m=\u001b[0m \u001b[0mlista\u001b[0m\u001b[0;34m[\u001b[0m\u001b[0;36m3\u001b[0m\u001b[0;34m]\u001b[0m\u001b[0;34m\u001b[0m\u001b[0;34m\u001b[0m\u001b[0m\n\u001b[0m\u001b[1;32m      5\u001b[0m     \u001b[0mdivisao\u001b[0m \u001b[0;34m=\u001b[0m \u001b[0;36m10\u001b[0m \u001b[0;34m/\u001b[0m \u001b[0;36m1\u001b[0m\u001b[0;34m\u001b[0m\u001b[0;34m\u001b[0m\u001b[0m\n\u001b[1;32m      6\u001b[0m \u001b[0;32mexcept\u001b[0m \u001b[0mZeroDivisionError\u001b[0m\u001b[0;34m:\u001b[0m\u001b[0;34m\u001b[0m\u001b[0;34m\u001b[0m\u001b[0m\n",
      "\u001b[0;31mIndexError\u001b[0m: list index out of range"
     ]
    }
   ],
   "source": [
    "import logging\n",
    "try:\n",
    "    lista = [1, 2]\n",
    "    numero = lista[3]\n",
    "    divisao = 10 / 1\n",
    "except ZeroDivisionError:\n",
    "    print('Não é possível realizar divisão por 0')\n",
    "except IndexError:\n",
    "    logging.error(\"Erro ao acessar um indice inválido da lista\")\n",
    "    #logging.exception(\"Erro ao acessar um indice inválido da lista\")\n",
    "    #print('Erro ao acessar um indice inválido da lista')\n",
    "    raise\n",
    "else:\n",
    "    print(\"executa não ocorre exceção\")\n",
    "finally:\n",
    "    print('Sempre executa')"
   ]
  },
  {
   "cell_type": "markdown",
   "metadata": {},
   "source": [
    "## Customização de exceções\n",
    "---"
   ]
  },
  {
   "cell_type": "markdown",
   "metadata": {},
   "source": [
    "Também em Python é possível criar customizações de exceções. As exceções customizada ajudam a percebe os motivos das falhas, deixando mais claro o motivo das mesmas."
   ]
  },
  {
   "cell_type": "code",
   "execution_count": 38,
   "metadata": {},
   "outputs": [
    {
     "ename": "CustomError",
     "evalue": "",
     "output_type": "error",
     "traceback": [
      "\u001b[0;31m---------------------------------------------------------------------------\u001b[0m",
      "\u001b[0;31mCustomError\u001b[0m                               Traceback (most recent call last)",
      "\u001b[0;32m<ipython-input-38-7eb2e9fc44bb>\u001b[0m in \u001b[0;36m<module>\u001b[0;34m\u001b[0m\n\u001b[1;32m      2\u001b[0m     \u001b[0;32mpass\u001b[0m\u001b[0;34m\u001b[0m\u001b[0;34m\u001b[0m\u001b[0m\n\u001b[1;32m      3\u001b[0m \u001b[0;34m\u001b[0m\u001b[0m\n\u001b[0;32m----> 4\u001b[0;31m \u001b[0;32mraise\u001b[0m \u001b[0mCustomError\u001b[0m\u001b[0;34m\u001b[0m\u001b[0;34m\u001b[0m\u001b[0m\n\u001b[0m",
      "\u001b[0;31mCustomError\u001b[0m: "
     ]
    }
   ],
   "source": [
    "class CustomError(Exception):\n",
    "    pass\n",
    "\n",
    "raise CustomError"
   ]
  },
  {
   "cell_type": "code",
   "execution_count": 53,
   "metadata": {},
   "outputs": [
    {
     "name": "stdout",
     "output_type": "stream",
     "text": [
      "Valor muito alto\n"
     ]
    }
   ],
   "source": [
    "class Error(Exception):\n",
    "    \"\"\"Classe base para as demais exceções\"\"\"\n",
    "    pass\n",
    "\n",
    "class ValueTooSmallError(Error):\n",
    "    pass\n",
    "\n",
    "class ValueTooLargeError(Error):\n",
    "    pass\n",
    "\n",
    "numero = 21\n",
    "try:\n",
    "    if numero < 10:\n",
    "        raise ValueTooSmallError\n",
    "    elif numero > 20:\n",
    "        raise ValueTooLargeError\n",
    "        \n",
    "except ValueTooSmallError:\n",
    "    print(\"Valor muito pequeno\")\n",
    "    \n",
    "except ValueTooLargeError:    \n",
    "    print(\"Valor muito alto\")"
   ]
  },
  {
   "cell_type": "code",
   "execution_count": 64,
   "metadata": {},
   "outputs": [
    {
     "ename": "NumberNotInRangeError",
     "evalue": "100 -> Número não está entre 5000 e 15000",
     "output_type": "error",
     "traceback": [
      "\u001b[0;31m---------------------------------------------------------------------------\u001b[0m",
      "\u001b[0;31mNumberNotInRangeError\u001b[0m                     Traceback (most recent call last)",
      "\u001b[0;32m<ipython-input-64-ca0b22db06dd>\u001b[0m in \u001b[0;36m<module>\u001b[0;34m\u001b[0m\n\u001b[1;32m     12\u001b[0m \u001b[0mnumber\u001b[0m \u001b[0;34m=\u001b[0m \u001b[0;36m100\u001b[0m\u001b[0;34m\u001b[0m\u001b[0;34m\u001b[0m\u001b[0m\n\u001b[1;32m     13\u001b[0m \u001b[0;32mif\u001b[0m \u001b[0;32mnot\u001b[0m \u001b[0;36m5000\u001b[0m \u001b[0;34m<\u001b[0m \u001b[0mnumber\u001b[0m \u001b[0;34m<\u001b[0m \u001b[0;36m15000\u001b[0m\u001b[0;34m:\u001b[0m\u001b[0;34m\u001b[0m\u001b[0;34m\u001b[0m\u001b[0m\n\u001b[0;32m---> 14\u001b[0;31m     \u001b[0;32mraise\u001b[0m \u001b[0mNumberNotInRangeError\u001b[0m\u001b[0;34m(\u001b[0m\u001b[0mnumber\u001b[0m\u001b[0;34m)\u001b[0m\u001b[0;34m\u001b[0m\u001b[0;34m\u001b[0m\u001b[0m\n\u001b[0m",
      "\u001b[0;31mNumberNotInRangeError\u001b[0m: 100 -> Número não está entre 5000 e 15000"
     ]
    }
   ],
   "source": [
    "class NumberNotInRangeError(Exception):\n",
    "    def __init__(self, number, message=\"Número não está entre 5000 e 15000\"):\n",
    "        self.number = number\n",
    "        self.message = message\n",
    "        super().__init__(self.message)\n",
    "        \n",
    "    def __str__(self):\n",
    "        return f'{self.number} -> {self.message}'\n",
    "\n",
    "\n",
    "#number = int(input(\"Entre com um número: \"))\n",
    "number = 100\n",
    "if not 5000 < number < 15000:\n",
    "    raise NumberNotInRangeError(number)"
   ]
  },
  {
   "cell_type": "markdown",
   "metadata": {},
   "source": [
    "## Manipulação de arquivos\n",
    "---"
   ]
  },
  {
   "cell_type": "code",
   "execution_count": 67,
   "metadata": {},
   "outputs": [
    {
     "name": "stdout",
     "output_type": "stream",
     "text": [
      "# Fundamentos Python\n",
      "\n",
      "Conteúdo da formação se encontra no ficheiro \"python_fundamentos.ipynb\"\n",
      "\n",
      "\n"
     ]
    }
   ],
   "source": [
    "# leitura\n",
    "arquivo = open(\"README.md\", 'r')\n",
    "texto = arquivo.read()\n",
    "print(texto)"
   ]
  },
  {
   "cell_type": "code",
   "execution_count": 69,
   "metadata": {},
   "outputs": [],
   "source": [
    "# gravação\n",
    "arquivo = open(\"teste.txt\", 'w')\n",
    "arquivo.write(texto)\n",
    "arquivo.close()"
   ]
  },
  {
   "cell_type": "code",
   "execution_count": 71,
   "metadata": {},
   "outputs": [
    {
     "name": "stdout",
     "output_type": "stream",
     "text": [
      "# Fundamentos Python\n",
      "\n",
      "Conteúdo da formação se encontra no ficheiro \"python_fundamentos.ipynb\"\n",
      "\n",
      "\n"
     ]
    }
   ],
   "source": [
    "# leitura\n",
    "arquivo = open(\"teste.txt\", 'r')\n",
    "texto = arquivo.read()\n",
    "print(texto)"
   ]
  },
  {
   "cell_type": "code",
   "execution_count": 88,
   "metadata": {},
   "outputs": [],
   "source": [
    "# atualizar - a = append\n",
    "texto = \"\\nnova linha\"\n",
    "arquivo = open(\"teste.txt\", 'a')\n",
    "arquivo.write(texto)\n",
    "arquivo.close()"
   ]
  },
  {
   "cell_type": "code",
   "execution_count": 90,
   "metadata": {},
   "outputs": [
    {
     "name": "stdout",
     "output_type": "stream",
     "text": [
      "# Fundamentos Python\n",
      "\n",
      "Conteúdo da formação se encontra no ficheiro \"python_fundamentos.ipynb\"\n",
      "nova linha\n"
     ]
    }
   ],
   "source": [
    "# leitura\n",
    "arquivo = open(\"teste.txt\", 'r')\n",
    "texto = arquivo.read()\n",
    "print(texto)"
   ]
  },
  {
   "cell_type": "code",
   "execution_count": 110,
   "metadata": {},
   "outputs": [
    {
     "name": "stdout",
     "output_type": "stream",
     "text": [
      "['# Fundamentos Python\\n', '\\n', 'Conteúdo da formação se encontra no ficheiro \"python_fundamentos.ipynb\"\\n', 'nova linha\\n', 'primeira linha \\n', 'segunda linha \\n', 'terceira linha \\n']\n"
     ]
    }
   ],
   "source": [
    "arquivo = open(\"teste.txt\", 'r')\n",
    "texto = arquivo.readlines()\n",
    "print(texto)"
   ]
  },
  {
   "cell_type": "code",
   "execution_count": 128,
   "metadata": {},
   "outputs": [
    {
     "name": "stdout",
     "output_type": "stream",
     "text": [
      "# Fundamentos Python\n",
      "\n",
      "\n",
      "\n",
      "Conteúdo da formação se encontra no ficheiro \"python_fundamentos.ipynb\"\n",
      "\n",
      "nova linha\n",
      "\n",
      "primeira linha \n",
      "\n",
      "segunda linha \n",
      "\n",
      "terceira linha \n"
     ]
    }
   ],
   "source": [
    "arquivo = open(\"teste.txt\", 'r')\n",
    "texto = arquivo.readline()\n",
    "while texto:\n",
    "    print(texto)\n",
    "    texto = arquivo.readline()"
   ]
  },
  {
   "cell_type": "code",
   "execution_count": 97,
   "metadata": {},
   "outputs": [],
   "source": [
    "# atualizar - a = append\n",
    "texto = \"linha\"\n",
    "arquivo = open(\"teste.2txt\", 'w')\n",
    "arquivo.write(texto)\n",
    "arquivo.close()"
   ]
  },
  {
   "cell_type": "code",
   "execution_count": 99,
   "metadata": {},
   "outputs": [],
   "source": [
    "with open(\"teste.txt\", 'a') as file:\n",
    "    file.write(\"\\nnova linha com contexto\")"
   ]
  },
  {
   "cell_type": "code",
   "execution_count": 105,
   "metadata": {},
   "outputs": [],
   "source": [
    "lista = [\"primeira linha \\n\", \"segunda linha \\n\", \"terceira linha \\n\"]\n",
    "with open(\"teste.txt\", 'a') as file:\n",
    "    file.writelines(lista)"
   ]
  },
  {
   "cell_type": "code",
   "execution_count": 109,
   "metadata": {},
   "outputs": [
    {
     "name": "stdout",
     "output_type": "stream",
     "text": [
      "---\n",
      "# Fundamentos Python\n",
      "\n",
      "---\n",
      "\n",
      "\n",
      "---\n",
      "Conteúdo da formação se encontra no ficheiro \"python_fundamentos.ipynb\"\n",
      "\n",
      "---\n",
      "nova linha\n",
      "\n",
      "---\n",
      "primeira linha \n",
      "\n",
      "---\n",
      "segunda linha \n",
      "\n",
      "---\n",
      "terceira linha \n",
      "\n"
     ]
    }
   ],
   "source": []
  },
  {
   "cell_type": "code",
   "execution_count": 145,
   "metadata": {},
   "outputs": [],
   "source": [
    "import json\n",
    "pessoa = {\n",
    "        \"nome\": \"José\",\n",
    "        \"sobrenome\": \"Lisboa\"\n",
    "    }\n",
    "with open(\"teste.json\", 'w') as arquivo:\n",
    "    arquivo.write(json.dumps(pessoa, ensure_ascii=False))"
   ]
  },
  {
   "cell_type": "code",
   "execution_count": 150,
   "metadata": {},
   "outputs": [
    {
     "name": "stdout",
     "output_type": "stream",
     "text": [
      "{'nome': 'José', 'sobrenome': 'Lisboa'}\n",
      "<class 'dict'>\n"
     ]
    }
   ],
   "source": [
    "import json\n",
    "arquivo = open(\"teste.json\", \"r\")\n",
    "texto = arquivo.read()\n",
    "pessoa = json.loads(texto)\n",
    "print(pessoa)\n",
    "print(type(pessoa))\n"
   ]
  },
  {
   "cell_type": "markdown",
   "metadata": {},
   "source": [
    "## Comandos de SO\n",
    "---"
   ]
  },
  {
   "cell_type": "markdown",
   "metadata": {},
   "source": [
    "Python fornece o módulo `OS` que provém funções para interagir com o sistema operacional de forma simples.  \n",
    "Além do `OS`, Python também provém o módulo `subprocess`.    \n",
    "\n",
    "Vamos ver alguns deles.  \n",
    "\n",
    "Referências:  \n",
    "https://docs.python.org/3/library/os.html  \n",
    "https://docs.python.org/3/library/subprocess.html\n",
    "    "
   ]
  },
  {
   "cell_type": "code",
   "execution_count": 154,
   "metadata": {},
   "outputs": [
    {
     "data": {
      "text/plain": [
       "0"
      ]
     },
     "execution_count": 154,
     "metadata": {},
     "output_type": "execute_result"
    }
   ],
   "source": [
    "import os\n",
    "cmd = \"date\"\n",
    "os.system(cmd)"
   ]
  },
  {
   "cell_type": "code",
   "execution_count": 177,
   "metadata": {},
   "outputs": [
    {
     "data": {
      "text/plain": [
       "0"
      ]
     },
     "execution_count": 177,
     "metadata": {},
     "output_type": "execute_result"
    }
   ],
   "source": [
    "import os\n",
    "cmd = \"ls\"\n",
    "os.system(cmd)"
   ]
  },
  {
   "cell_type": "code",
   "execution_count": 158,
   "metadata": {},
   "outputs": [
    {
     "data": {
      "text/plain": [
       "0"
      ]
     },
     "execution_count": 158,
     "metadata": {},
     "output_type": "execute_result"
    }
   ],
   "source": [
    "import os\n",
    "cmd = \"gedit\"\n",
    "os.system(cmd)"
   ]
  },
  {
   "cell_type": "code",
   "execution_count": null,
   "metadata": {},
   "outputs": [],
   "source": [
    "import os\n",
    "os.getcwd()\n"
   ]
  },
  {
   "cell_type": "code",
   "execution_count": 176,
   "metadata": {},
   "outputs": [],
   "source": [
    "import os\n",
    "os.mkdir(\"teste\")"
   ]
  },
  {
   "cell_type": "code",
   "execution_count": 182,
   "metadata": {},
   "outputs": [
    {
     "name": "stdout",
     "output_type": "stream",
     "text": [
      "CompletedProcess(args=['mkdir', 'teste'], returncode=0)\n"
     ]
    }
   ],
   "source": [
    "import subprocess\n",
    "result=subprocess.run([\"mkdir\", \"teste\"])\n",
    "print(result)"
   ]
  },
  {
   "cell_type": "code",
   "execution_count": 202,
   "metadata": {},
   "outputs": [
    {
     "name": "stdout",
     "output_type": "stream",
     "text": [
      "Hello world\n"
     ]
    }
   ],
   "source": [
    "import subprocess\n",
    "command=\"echo Hello world\"\n",
    "result=subprocess.getoutput(command)\n",
    "print(result)"
   ]
  },
  {
   "cell_type": "code",
   "execution_count": 196,
   "metadata": {},
   "outputs": [
    {
     "data": {
      "text/plain": [
       "CompletedProcess(args=['sh', 'shell.sh'], returncode=0)"
      ]
     },
     "execution_count": 196,
     "metadata": {},
     "output_type": "execute_result"
    }
   ],
   "source": [
    "import subprocess\n",
    "subprocess.run([\"sh\", \"shell.sh\"])"
   ]
  },
  {
   "cell_type": "code",
   "execution_count": null,
   "metadata": {},
   "outputs": [],
   "source": [
    "import subprocess\n",
    "subprocess.check_output([\"sh\", \"shell.sh\"]).decode(\"utf-8\")"
   ]
  },
  {
   "cell_type": "code",
   "execution_count": null,
   "metadata": {},
   "outputs": [],
   "source": [
    "import subprocess\n",
    "subprocess.run(['ls', '-l'], capture_output=True, text=True)\n",
    "result.stdout.decode('utf-8')"
   ]
  },
  {
   "cell_type": "code",
   "execution_count": null,
   "metadata": {},
   "outputs": [],
   "source": []
  },
  {
   "cell_type": "code",
   "execution_count": 7,
   "metadata": {},
   "outputs": [],
   "source": []
  },
  {
   "cell_type": "code",
   "execution_count": 19,
   "metadata": {},
   "outputs": [],
   "source": []
  }
 ],
 "metadata": {
  "kernelspec": {
   "display_name": "Python 3",
   "language": "python",
   "name": "python3"
  },
  "language_info": {
   "codemirror_mode": {
    "name": "ipython",
    "version": 3
   },
   "file_extension": ".py",
   "mimetype": "text/x-python",
   "name": "python",
   "nbconvert_exporter": "python",
   "pygments_lexer": "ipython3",
   "version": "3.8.5"
  }
 },
 "nbformat": 4,
 "nbformat_minor": 4
}
