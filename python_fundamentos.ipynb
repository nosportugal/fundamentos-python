{
 "cells": [
  {
   "cell_type": "markdown",
   "metadata": {},
   "source": [
    "# Python - Fundamentos\n",
    "---"
   ]
  },
  {
   "cell_type": "markdown",
   "metadata": {},
   "source": [
    "## O que é Python?\n",
    "---\n",
    "   \n",
    "   \n",
    " - Linguagem de programação de alto nível\n",
    " - Foi criado pelo Holandês Guido Van Rossum em 1989 no  Instituto de Pesquisa Nacional para Matemática e Ciência da Computação (CWI)\n",
    " - Fortemente tipada\n",
    " - Interpretada e orientada à objetos\n",
    " - Linguagem de Scripts\n",
    "  \n",
    "**Curiosidade:** Apesar de se usar a cobra Píton, o nome Python foi uma homenagem a série Monty Python's Flying Circus.\n",
    "\n",
    "Python                     |  Monty Python\n",
    ":-------------------------:|:-------------------------:\n",
    "![](img/python_logo.png)   |  ![](img/mount_python.png)\n",
    "\n",
    "\n"
   ]
  },
  {
   "cell_type": "markdown",
   "metadata": {},
   "source": [
    "## Preparando o ambiente Python\n",
    "---\n",
    "<br/>  \n",
    "\n",
    "### Instalando Python  \n",
    "<br/> \n",
    "\n",
    "#### Windows\n",
    "\n",
    "  - https://www.python.org\n",
    "\n",
    "![](img/python_install.png) \n",
    "<br/> \n",
    "\n",
    "#### Linux\n",
    "\n",
    "**Via gerenciador de pacote**\n",
    "\n",
    "```sh\n",
    "apt install python3\n",
    "```\n",
    "\n",
    "```sh\n",
    "yum install -y python3\n",
    "```\n",
    "\n",
    "**Efetuando download**\n",
    "\n",
    "```sh\n",
    "curl -O https://www.python.org/ftp/python/3.9.5/Python-3.9.5.tar.xz\n",
    "tar -xvf Python-3.9.5.tar.xz\n",
    "```\n",
    "\n",
    "```sh\n",
    "cd Python-3.9.5/\n",
    "./configure --enable-optimizations\n",
    "make altinstall\n",
    "python3.9\n",
    "```"
   ]
  },
  {
   "cell_type": "markdown",
   "metadata": {},
   "source": [
    "## Terminal Python\n",
    "---\n",
    "<br/>\n",
    "\n",
    "![](img/terminal_python_windows.png)\n",
    "<br/>\n",
    "\n",
    "![](img/terminal_python_linux.png)"
   ]
  },
  {
   "cell_type": "markdown",
   "metadata": {},
   "source": [
    "## IDE's\n",
    "---\n",
    "<br/>\n",
    "\n",
    "  - Visual Studio Code\n",
    "    - https://code.visualstudio.com/\n",
    "  - Pycharm Community\n",
    "    - https://www.jetbrains.com/pycharm/download/\n",
    "  - Sublime Text\n",
    "    - https://www.sublimetext.com/\n",
    "  - ATOM\n",
    "    - https://atom.io/\n",
    "  - EMACS\n",
    "    - https://www.gnu.org/software/emacs/"
   ]
  },
  {
   "cell_type": "markdown",
   "metadata": {},
   "source": [
    "## Variáveis, Constantes e Tipos de Dados\n",
    "---\n"
   ]
  },
  {
   "cell_type": "markdown",
   "metadata": {},
   "source": [
    "Em python a convenção utilizada na nomeação de variáveis e constantes é formato snake_case.\n",
    "As variáveis são escritas em letras miniscúlas enquanto as constantes são escritas em letras maiúsculas.\n",
    "\n",
    "```python\n",
    "variavel = 42\n",
    "variavel_nome_composto = 42\n",
    "CONSTANTE = 3.14\n",
    "CONSTANTE_COMPOSTA = 3.14\n",
    "```"
   ]
  },
  {
   "cell_type": "markdown",
   "metadata": {},
   "source": [
    "Python também possui tipagem dinâmica, onde todos os valores atribuídos podem ser alterados sem problemas para qualquer outro tipo, até mesmo das constantes."
   ]
  },
  {
   "cell_type": "code",
   "execution_count": 1,
   "metadata": {},
   "outputs": [
    {
     "name": "stdout",
     "output_type": "stream",
     "text": [
      "42\n",
      "Cachorro\n",
      "3.14\n",
      "2\n"
     ]
    }
   ],
   "source": [
    "variavel = 42\n",
    "print(variavel)\n",
    "variavel = \"Cachorro\"\n",
    "print(variavel)\n",
    "CONSTANTE = 3.14\n",
    "print(CONSTANTE)\n",
    "CONSTANTE = 2\n",
    "print(CONSTANTE)"
   ]
  },
  {
   "cell_type": "markdown",
   "metadata": {},
   "source": [
    "Como falado acima, Python possui tipagem dinâmica, ou seja, as variáveis podem armazenar dados de diferentes tipos. Abaixo alguns deles."
   ]
  },
  {
   "cell_type": "code",
   "execution_count": 9,
   "metadata": {},
   "outputs": [
    {
     "name": "stdout",
     "output_type": "stream",
     "text": [
      "10 <class 'int'>\n",
      "25.1 <class 'float'>\n",
      "animal <class 'str'>\n",
      "True <class 'bool'>\n"
     ]
    }
   ],
   "source": [
    "inteiro = 10\n",
    "print(inteiro, type(inteiro))\n",
    "ponto_flutuante =  25.10\n",
    "print(ponto_flutuante, type(ponto_flutuante))\n",
    "palavra = \"animal\"\n",
    "print(palavra, type(palavra))\n",
    "Booleano = True\n",
    "print(Booleano, type(Booleano))\n"
   ]
  },
  {
   "cell_type": "markdown",
   "metadata": {},
   "source": [
    "## Operadores Aritiméticos\n",
    "---"
   ]
  },
  {
   "cell_type": "code",
   "execution_count": 17,
   "metadata": {},
   "outputs": [
    {
     "name": "stdout",
     "output_type": "stream",
     "text": [
      "soma:  15\n",
      "subtracao:  5\n",
      "multiplicacao:  50\n",
      "divisao:  2.0\n",
      "modulo:  0\n",
      "incremento:  11\n",
      "decremento:  10\n",
      "15\n"
     ]
    }
   ],
   "source": [
    "x = 10\n",
    "y = 5\n",
    "\n",
    "soma = x + y\n",
    "print(\"soma: \", soma)\n",
    "\n",
    "subtracao = x - y\n",
    "print(\"subtracao: \", subtracao)\n",
    "\n",
    "multiplicacao = x * y\n",
    "print(\"multiplicacao: \", multiplicacao)\n",
    "\n",
    "divisao = x / y\n",
    "print(\"divisao: \", divisao)\n",
    "\n",
    "modulo = x % y\n",
    "print(\"modulo: \", modulo)\n",
    "\n",
    "incremento = 10\n",
    "incremento += 1\n",
    "print(\"incremento: \", incremento)\n",
    "\n",
    "decremento = 11\n",
    "decremento -= 1\n",
    "print(\"decremento: \", decremento)\n",
    "\n",
    "numero = 10\n",
    "x = 5\n",
    "numero += x\n",
    "print(numero)"
   ]
  },
  {
   "cell_type": "markdown",
   "metadata": {},
   "source": [
    "## Conversões\n",
    "---"
   ]
  },
  {
   "cell_type": "code",
   "execution_count": 31,
   "metadata": {},
   "outputs": [
    {
     "name": "stdout",
     "output_type": "stream",
     "text": [
      "10 <class 'int'>\n",
      "10.0 <class 'float'>\n",
      "10 <class 'str'>\n",
      "10 <class 'int'>\n",
      "10 <class 'str'>\n",
      "True False True False\n"
     ]
    }
   ],
   "source": [
    "inteiro = 10\n",
    "print(inteiro, type(inteiro))\n",
    "numero_flutuante = float(inteiro)\n",
    "print(numero_flutuante, type(numero_flutuante))\n",
    "\n",
    "palavra = \"10\"\n",
    "print(palavra, type(palavra))\n",
    "numero = int(palavra)\n",
    "print(numero, type(numero))\n",
    "\n",
    "inteiro_string = str(inteiro)\n",
    "print(inteiro_string, type(inteiro_string))\n",
    "\n",
    "print(bool(10), bool(0), bool(\"cachorro\"), bool(\"\"))\n"
   ]
  },
  {
   "cell_type": "markdown",
   "metadata": {},
   "source": [
    "## Strings"
   ]
  },
  {
   "cell_type": "code",
   "execution_count": 45,
   "metadata": {},
   "outputs": [
    {
     "name": "stdout",
     "output_type": "stream",
     "text": [
      "José Lisboa\n",
      "José Lisboa\n",
      "José Lisboa\n",
      "Lisboa José\n",
      "José Lisboa\n",
      "A soma de  10 + 5 é 15\n"
     ]
    }
   ],
   "source": [
    "nome = \"José\"\n",
    "sobronome = \"Lisboa\"\n",
    "nome_completo = nome + \" \" + sobronome\n",
    "print(nome_completo)\n",
    "\n",
    "nome = \"José\"\n",
    "sobronome = \"Lisboa\"\n",
    "nome_completo = \"{} {}\".format(nome, sobronome)\n",
    "print(nome_completo)\n",
    "\n",
    "nome = \"José\"\n",
    "sobronome = \"Lisboa\"\n",
    "nome_completo = \"{nome} {sobronome}\".format(nome=nome, sobronome=sobronome)\n",
    "print(nome_completo)\n",
    "\n",
    "nome = \"José\"\n",
    "sobronome = \"Lisboa\"\n",
    "nome_completo = \"{1} {0}\".format(nome, sobronome)\n",
    "print(nome_completo)\n",
    "\n",
    "# f-string\n",
    "nome = \"José\"\n",
    "sobronome = \"Lisboa\"\n",
    "nome_completo = f\"{nome} {sobronome}\"\n",
    "print(nome_completo)\n",
    "\n",
    "x = 10\n",
    "y = 5\n",
    "resultado = f\"A soma de  {x} + {y} é {x, y}\"\n",
    "print(resultado)"
   ]
  },
  {
   "cell_type": "markdown",
   "metadata": {},
   "source": [
    "## Condicionais\n",
    "---\n"
   ]
  },
  {
   "cell_type": "code",
   "execution_count": 5,
   "metadata": {},
   "outputs": [
    {
     "name": "stdout",
     "output_type": "stream",
     "text": [
      "número par\n"
     ]
    }
   ],
   "source": [
    "x = 10\n",
    "y = 5\n",
    "soma = 10 + 6\n",
    "if soma % 2 == 0:\n",
    "    print(\"número par\")\n",
    "else:\n",
    "    print(\"número ímpar\")"
   ]
  },
  {
   "cell_type": "code",
   "execution_count": 49,
   "metadata": {},
   "outputs": [
    {
     "name": "stdout",
     "output_type": "stream",
     "text": [
      "número par\n"
     ]
    }
   ],
   "source": [
    "x = 10\n",
    "y = 5\n",
    "soma = 10 + 6\n",
    "if soma != 0:\n",
    "    if soma % 2 == 0:\n",
    "        print(\"número par\")\n",
    "    else:\n",
    "        print(\"número ímpar\")\n",
    "else:\n",
    "    print(\"Zero\")"
   ]
  },
  {
   "cell_type": "code",
   "execution_count": 54,
   "metadata": {},
   "outputs": [
    {
     "name": "stdout",
     "output_type": "stream",
     "text": [
      "Criança\n",
      "Falante Português\n"
     ]
    }
   ],
   "source": [
    "## entre 0 e 14 = criança\n",
    "## entre 15 e 18 = adolescente\n",
    "## entre 19 e 29 = jovem\n",
    "## se nacionalidade Portuguesa ou Brasileira escrever \"Falante Português\"\n",
    "idade = 5\n",
    "nacionalidade = \"Portuguesa\"\n",
    "\n",
    "if idade >= 0 and idade <=14:\n",
    "    print(\"Criança\")\n",
    "elif idade > 14 and idade <= 18:\n",
    "    print(\"Adolescente\")\n",
    "elif idade >= 19 and idade <= 29:\n",
    "    print(\"jovem\")\n",
    "else:\n",
    "    print(\"Não foi possível classificar\")\n",
    "    \n",
    "if nacionalidade == \"Portuguesa\" or nacionalidade == \"Brasileira\":\n",
    "    print(\"Falante Português\")\n"
   ]
  },
  {
   "cell_type": "code",
   "execution_count": 4,
   "metadata": {},
   "outputs": [
    {
     "name": "stdout",
     "output_type": "stream",
     "text": [
      "Afirmação verdadeira\n"
     ]
    }
   ],
   "source": [
    "boolean = False\n",
    "\n",
    "if not boolean:\n",
    "    print(\"Afirmação verdadeira\")\n",
    "else:\n",
    "    print(\"Afirmação falsa\")"
   ]
  },
  {
   "cell_type": "code",
   "execution_count": 54,
   "metadata": {},
   "outputs": [
    {
     "name": "stdout",
     "output_type": "stream",
     "text": [
      "32\n"
     ]
    }
   ],
   "source": [
    "nome = \"Rafael\"\n",
    "nome = 32 if nome == \"Rafael\" else 20 \n",
    "print(nome)"
   ]
  },
  {
   "cell_type": "code",
   "execution_count": 5,
   "metadata": {},
   "outputs": [
    {
     "name": "stdout",
     "output_type": "stream",
     "text": [
      "Rafael\n"
     ]
    }
   ],
   "source": [
    "nome1 = \"\"\n",
    "nome2 = \"Rafael\"\n",
    "nome = (nome1 or nome2)\n",
    "print(nome)"
   ]
  },
  {
   "cell_type": "markdown",
   "metadata": {},
   "source": [
    "## Módulos, funções, métodos e classes\n",
    "---"
   ]
  },
  {
   "cell_type": "markdown",
   "metadata": {},
   "source": [
    "### Definições\n",
    "<br/>\n",
    "\n",
    "**Funções**  \n",
    "\n",
    "Função é um bloco de código que encapsula uma tarefa específica, que podem receber argumentos e retornar valores. Em python uma função é indicado pela palavra reservada \"def\" que iniciar a *definição* de uma função.\n",
    "\n",
    "**Métodos**\n",
    "\n",
    "Um método é uma função que é definada em uma classe, podemos dizer que um método sempre “pertence” a uma classe. Método também é indicado pela palavra reservada \"def\".\n",
    "\n",
    "**Classes**\n",
    "\n",
    "Classes proporcionam uma forma de organizar dados e funcionalidades juntos. Criar uma nova classe cria um novo “tipo” de objeto, permitindo que novas “instâncias” desse tipo sejam produzidas. Cada instância da classe pode ter atributos anexados a ela, para manter seu estado. Instâncias da classe também podem ter métodos (definidos pela classe) para modificar seu estado.\n",
    "\n",
    "**Módulos**\n",
    "\n",
    "Um módulo é um ficheiro contendo definições e instruções Python. O nome do arquivo é o nome do módulo acrescido do sufixo \".py\", ou seja, todo fichero Python (extensão .py) é um módulo no mundo Python.\n",
    "\n",
    "**Referência:** https://docs.python.org/pt-br/3/tutorial/\n"
   ]
  },
  {
   "cell_type": "code",
   "execution_count": 57,
   "metadata": {},
   "outputs": [
    {
     "name": "stdout",
     "output_type": "stream",
     "text": [
      "21\n"
     ]
    }
   ],
   "source": [
    "def soma(x, y):\n",
    "    return x + y\n",
    "\n",
    "resultado = soma(10, 11)\n",
    "print(resultado)"
   ]
  },
  {
   "cell_type": "code",
   "execution_count": 59,
   "metadata": {},
   "outputs": [
    {
     "name": "stdout",
     "output_type": "stream",
     "text": [
      "15 5\n"
     ]
    }
   ],
   "source": [
    "class Calculadora:\n",
    "    def __init__(self, x, y): #construtor\n",
    "        self.x = x\n",
    "        self.y = y\n",
    "    \n",
    "    def soma(self):\n",
    "        return self.x + self.y\n",
    "    \n",
    "    def subtracao(self):\n",
    "        return self.x - self.y\n",
    "    \n",
    "calculadora = Calculadora(10, 5)\n",
    "resultado_soma = calculadora.soma()\n",
    "resultado_subtracao = calculadora.subtracao()\n",
    "print(resultado_soma, resultado_subtracao)"
   ]
  },
  {
   "cell_type": "code",
   "execution_count": 60,
   "metadata": {},
   "outputs": [
    {
     "name": "stdout",
     "output_type": "stream",
     "text": [
      "15 15\n"
     ]
    }
   ],
   "source": [
    "class Calculadora:    \n",
    "    def soma(self, x, y):\n",
    "        return x + y\n",
    "    \n",
    "    def subtracao(self, x, y):\n",
    "        return x + y\n",
    "    \n",
    "calculadora = Calculadora()\n",
    "resultado_soma = calculadora.soma(10, 5)\n",
    "resultado_subtracao = calculadora.subtracao(10, 5)\n",
    "print(resultado_soma, resultado_subtracao)"
   ]
  },
  {
   "cell_type": "code",
   "execution_count": 2,
   "metadata": {},
   "outputs": [
    {
     "name": "stdout",
     "output_type": "stream",
     "text": [
      "7.5\n"
     ]
    }
   ],
   "source": [
    "# funções anônimas\n",
    "\n",
    "media = lambda valores: sum(valores) / len(valores)\n",
    "resultado = media([10, 10, 5, 5])\n",
    "print(resultado)"
   ]
  },
  {
   "cell_type": "markdown",
   "metadata": {},
   "source": [
    "## Estruturas de repetição\n",
    "---"
   ]
  },
  {
   "cell_type": "code",
   "execution_count": 21,
   "metadata": {},
   "outputs": [
    {
     "name": "stdout",
     "output_type": "stream",
     "text": [
      "1\n",
      "2\n",
      "3\n",
      "4\n",
      "5\n",
      "6\n",
      "7\n",
      "8\n",
      "9\n"
     ]
    }
   ],
   "source": [
    "for numero in range(1, 10):\n",
    "    print(numero)\n",
    "\n",
    "#lista_nomes = [\"Rafael\", \"José\", \"Maria\", \"Beatriz\"]    \n",
    "#for nomes in lista_nomes:\n",
    "#    print(nomes)\n",
    "\n",
    "#for letra in \"Rafael\":\n",
    "#    print(letra)"
   ]
  },
  {
   "cell_type": "code",
   "execution_count": 17,
   "metadata": {},
   "outputs": [
    {
     "name": "stdout",
     "output_type": "stream",
     "text": [
      "4\n",
      "3\n",
      "2\n",
      "-----\n",
      "24\n"
     ]
    }
   ],
   "source": [
    "numero = 4\n",
    "\n",
    "fatorial = 1\n",
    "while numero > 1:\n",
    "    print(numero)\n",
    "    fatorial *= numero\n",
    "    numero -= 1\n",
    "print(\"-----\")\n",
    "print(fatorial)\n",
    "\n",
    "#numero = 10\n",
    "#while True:\n",
    "#    print(numero)\n",
    "#    numero -= 1\n",
    "#    if numero == 0:\n",
    "#        break\n",
    "\n",
    "    \n"
   ]
  },
  {
   "cell_type": "markdown",
   "metadata": {},
   "source": [
    "## Objetos iteráveis - Listas, Tuples, Dicionários e Set\n",
    "---"
   ]
  },
  {
   "cell_type": "code",
   "execution_count": 31,
   "metadata": {},
   "outputs": [
    {
     "name": "stdout",
     "output_type": "stream",
     "text": [
      "<class 'list'>\n",
      "[2, 4, 6, 8]\n"
     ]
    }
   ],
   "source": [
    "# listas\n",
    "lista_numero = [1, 2, 3, 4]\n",
    "print(type(lista_numero))\n",
    "nova_lista_numero = []\n",
    "for numero in lista_numero:\n",
    "    nova_lista_numero.append(numero * 2)\n",
    "print(nova_lista_numero)    \n"
   ]
  },
  {
   "cell_type": "code",
   "execution_count": 32,
   "metadata": {},
   "outputs": [
    {
     "name": "stdout",
     "output_type": "stream",
     "text": [
      "[1, 2, 3, 4]\n",
      "[10, 2, 3, 4]\n",
      "2\n",
      "4\n"
     ]
    }
   ],
   "source": [
    "print(lista_numero)\n",
    "lista_numero[0] = 10\n",
    "print(lista_numero)\n",
    "print(lista_numero[1])\n",
    "print(lista_numero[-1])\n",
    "print(len(lista_numero))"
   ]
  },
  {
   "cell_type": "code",
   "execution_count": 36,
   "metadata": {},
   "outputs": [
    {
     "name": "stdout",
     "output_type": "stream",
     "text": [
      "10\n",
      "20\n",
      "Rafael\n",
      "True\n",
      "False\n",
      "[1, 2, 3]\n"
     ]
    }
   ],
   "source": [
    "lista_aleatoria = [10, 20, \"Rafael\", True, False, [1, 2, 3]]\n",
    "for elementos in lista_aleatoria:\n",
    "    print(elementos)\n"
   ]
  },
  {
   "cell_type": "code",
   "execution_count": 45,
   "metadata": {},
   "outputs": [
    {
     "name": "stdout",
     "output_type": "stream",
     "text": [
      "[2, 4, 5, 10]\n"
     ]
    }
   ],
   "source": [
    "lista_numero = [10, 2, 4, 5]\n",
    "lista_numero.sort()\n",
    "#lista_numero.sort(reverse=True)\n",
    "#lista_numero.reverse()\n",
    "print(lista_numero)"
   ]
  },
  {
   "cell_type": "code",
   "execution_count": 55,
   "metadata": {},
   "outputs": [
    {
     "name": "stdout",
     "output_type": "stream",
     "text": [
      "[55, 10, 2, 4, 5, 55]\n",
      "[10, 2, 4, 5, 55]\n",
      "[]\n"
     ]
    }
   ],
   "source": [
    "lista_numero = [10, 2, 4, 5]\n",
    "lista_numero.append(55)\n",
    "lista_numero.insert(0, 55)\n",
    "print(lista_numero)\n",
    "lista_numero.pop(0)\n",
    "print(lista_numero)\n",
    "lista_numero.clear()\n",
    "print(lista_numero)"
   ]
  },
  {
   "cell_type": "code",
   "execution_count": 59,
   "metadata": {},
   "outputs": [
    {
     "name": "stdout",
     "output_type": "stream",
     "text": [
      "[0, 1, 2, 3, 4, 5, 6, 7, 8, 9]\n"
     ]
    }
   ],
   "source": [
    "lista_numero = [numero for numero in range(10)]\n",
    "print(lista_numero)"
   ]
  },
  {
   "cell_type": "code",
   "execution_count": 73,
   "metadata": {},
   "outputs": [
    {
     "name": "stdout",
     "output_type": "stream",
     "text": [
      "(10, 20, 30)\n",
      "(10, 20, 30)\n",
      "(10, 20)\n",
      "(10, 20)\n",
      "[20, 40, 60]\n"
     ]
    }
   ],
   "source": [
    "# tuplas - Tupla é uma Lista imutável\n",
    "\n",
    "tuplas_numeros = (10, 20, 30)\n",
    "print(tuplas_numeros)\n",
    "#tuplas_numeros[0] = 11\n",
    "#tuplas_numero.append(1)\n",
    "print(tuplas_numeros)\n",
    "print(tuplas_numeros[0:2])\n",
    "nova_tupla = tuplas_numeros[0:2]\n",
    "print(nova_tupla)\n",
    "lista_numero = [numero * 2 for numero in tuplas_numeros]\n",
    "print(lista_numero)\n"
   ]
  },
  {
   "cell_type": "code",
   "execution_count": 7,
   "metadata": {},
   "outputs": [
    {
     "name": "stdout",
     "output_type": "stream",
     "text": [
      "{'nome': 'José', 'sobrenome': 'Lisboa', 'idade': 30}\n",
      "José\n",
      "30\n"
     ]
    }
   ],
   "source": [
    "# dicionários\n",
    "\n",
    "pessoa = {\n",
    "    \"nome\": \"José\",\n",
    "    \"sobrenome\": \"Lisboa\",\n",
    "    \"idade\": 30\n",
    "}\n",
    "\n",
    "print(pessoa)\n",
    "print(pessoa[\"nome\"])\n",
    "print(pessoa.get(\"idade\"))"
   ]
  },
  {
   "cell_type": "code",
   "execution_count": 24,
   "metadata": {},
   "outputs": [
    {
     "name": "stdout",
     "output_type": "stream",
     "text": [
      "15\n",
      "5\n",
      "2.0\n",
      "50\n"
     ]
    },
    {
     "data": {
      "text/plain": [
       "dict"
      ]
     },
     "execution_count": 24,
     "metadata": {},
     "output_type": "execute_result"
    }
   ],
   "source": [
    "soma = lambda x, y: x + y\n",
    "subtracao = lambda x, y: x - y\n",
    "multiplicacao = lambda x, y: x * y\n",
    "divisao = lambda x, y: x / y\n",
    "\n",
    "calculadora = {\n",
    "    \"soma\": soma,\n",
    "    \"subtracao\": subtracao,\n",
    "    \"multiplicacao\": multiplicacao,\n",
    "    \"divisao\": divisao    \n",
    "}\n",
    "\n",
    "\n",
    "operacao = \"soma\"\n",
    "\n",
    "resultado = calculadora[operacao](10, 5)\n",
    "print(resultado)\n",
    "\n",
    "print(calculadora[\"subtracao\"](10, 5))\n",
    "print(calculadora[\"divisao\"](10, 5))\n",
    "print(calculadora[\"multiplicacao\"](10, 5))\n",
    "type(calculadora)"
   ]
  },
  {
   "cell_type": "code",
   "execution_count": 32,
   "metadata": {},
   "outputs": [
    {
     "name": "stdout",
     "output_type": "stream",
     "text": [
      "<class 'set'>\n",
      "{1, 2, 3, 4}\n",
      "{4, 5, 6, 7}\n",
      "{1, 2, 3, 4, 5, 6, 7}\n",
      "{4}\n",
      "{5, 6, 7}\n",
      "{1, 2, 3, 5, 6, 7}\n"
     ]
    }
   ],
   "source": [
    "# conjuntos\n",
    "\n",
    "numeros = {1, 2, 3, 3, 4}\n",
    "print(type(numeros))\n",
    "print(numeros)\n",
    "\n",
    "lista = [4, 4, 5, 6, 6, 7]\n",
    "conjunto = set(lista)\n",
    "print(conjunto)\n",
    "\n",
    "\n",
    "print(conjunto.union(numeros))\n",
    "print(conjunto.intersection(numeros))\n",
    "print(conjunto.difference(numeros))\n",
    "print(conjunto.symmetric_difference(numeros))\n",
    "\n"
   ]
  },
  {
   "cell_type": "code",
   "execution_count": 46,
   "metadata": {},
   "outputs": [
    {
     "name": "stdout",
     "output_type": "stream",
     "text": [
      "0 10\n",
      "1 20\n",
      "2 30\n",
      "[20, 40, 60]\n"
     ]
    }
   ],
   "source": [
    "lista = [10, 20, 30]\n",
    "for indice, value in enumerate(lista):\n",
    "    print(indice, value)\n",
    "    lista[indice] *= 2\n",
    "    \n",
    "print(lista)"
   ]
  }
 ],
 "metadata": {
  "kernelspec": {
   "display_name": "Python 3",
   "language": "python",
   "name": "python3"
  },
  "language_info": {
   "codemirror_mode": {
    "name": "ipython",
    "version": 3
   },
   "file_extension": ".py",
   "mimetype": "text/x-python",
   "name": "python",
   "nbconvert_exporter": "python",
   "pygments_lexer": "ipython3",
   "version": "3.8.5"
  }
 },
 "nbformat": 4,
 "nbformat_minor": 4
}
